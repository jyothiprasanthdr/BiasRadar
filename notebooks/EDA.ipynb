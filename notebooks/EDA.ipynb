{
 "cells": [
  {
   "cell_type": "code",
   "execution_count": null,
   "id": "fb296fa5",
   "metadata": {},
   "outputs": [],
   "source": []
  },
  {
   "cell_type": "code",
   "execution_count": null,
   "id": "04970ab8",
   "metadata": {},
   "outputs": [],
   "source": [
    "import pandas as pd\n",
    "import numpy as np\n",
    "import seaborn as sns\n",
    "import matplotlib.pyplot as plot\n"
   ]
  },
  {
   "cell_type": "code",
   "execution_count": null,
   "id": "208ecc22",
   "metadata": {},
   "outputs": [],
   "source": [
    "df= pd.read_csv(\"data/NYC_311_2k10_to_2k25.csv\", nrows=5)\n",
    "df.columns.to_list()"
   ]
  },
  {
   "cell_type": "code",
   "execution_count": null,
   "id": "0196c177",
   "metadata": {},
   "outputs": [],
   "source": [
    "cols_to_use = [\n",
    "    \"Unique Key\", \"Created Date\", \"Closed Date\", \"Agency\", \"Agency Name\",\n",
    "    \"Complaint Type\", \"Descriptor\", \"Location Type\", \"Incident Zip\",\n",
    "    \"City\", \"Borough\", \"Latitude\", \"Longitude\", \"Status\", \"Resolution Description\"\n",
    "]\n",
    "\n",
    "\n",
    "\n",
    "df = pd.read_csv(\n",
    "    \"../data/NYC_311_2k10_to_2k25.csv\",\n",
    "    usecols=cols_to_use,\n",
    "    low_memory=False\n",
    ")\n",
    "\n",
    "# import polars as pl\n",
    "\n",
    "# df = pl.read_csv(\"../data/NYC_311_2k10_to_2k25.csv\", columns=cols_to_use, try_parse_dates=True)\n",
    "\n"
   ]
  },
  {
   "cell_type": "code",
   "execution_count": null,
   "id": "d1886285",
   "metadata": {},
   "outputs": [],
   "source": [
    "df.columns"
   ]
  },
  {
   "cell_type": "code",
   "execution_count": null,
   "id": "73d08cc2",
   "metadata": {},
   "outputs": [],
   "source": [
    "df.info(memory_usage=\"deep\")\n"
   ]
  },
  {
   "cell_type": "code",
   "execution_count": null,
   "id": "ee80a2d6",
   "metadata": {},
   "outputs": [],
   "source": [
    "df[\"Created Date\"] = pd.to_datetime(df[\"Created Date\"], errors=\"coerce\")\n",
    "df[\"Closed Date\"] = pd.to_datetime(df[\"Closed Date\"], errors=\"coerce\")\n"
   ]
  },
  {
   "cell_type": "code",
   "execution_count": null,
   "id": "1260cc38",
   "metadata": {},
   "outputs": [],
   "source": [
    "df[\"resolution_time_hours\"] = (\n",
    "    (df[\"Closed Date\"] - df[\"Created Date\"]).dt.total_seconds() / 3600\n",
    ")\n"
   ]
  },
  {
   "cell_type": "code",
   "execution_count": null,
   "id": "e56530ef",
   "metadata": {},
   "outputs": [],
   "source": [
    "df = df[df[\"resolution_time_hours\"].notna() & (df[\"resolution_time_hours\"] >= 0)]\n"
   ]
  },
  {
   "cell_type": "code",
   "execution_count": null,
   "id": "7582c4fb",
   "metadata": {},
   "outputs": [],
   "source": [
    "df[\"Unique Key\"] = pd.to_numeric(df[\"Unique Key\"], downcast=\"integer\")\n",
    "df[\"Latitude\"] = pd.to_numeric(df[\"Latitude\"], downcast=\"float\")\n",
    "df[\"Longitude\"] = pd.to_numeric(df[\"Longitude\"], downcast=\"float\")\n"
   ]
  },
  {
   "cell_type": "code",
   "execution_count": null,
   "id": "d34fce43",
   "metadata": {},
   "outputs": [],
   "source": [
    "cat_cols = [\"Agency\", \"Agency Name\", \"Complaint Type\", \"Descriptor\",\n",
    "            \"Location Type\", \"Incident Zip\", \"City\", \"Status\", \"Borough\"]\n",
    "\n",
    "for col in cat_cols:\n",
    "    df[col] = df[col].astype(\"category\")\n"
   ]
  },
  {
   "cell_type": "code",
   "execution_count": null,
   "id": "1eedd2d7",
   "metadata": {},
   "outputs": [],
   "source": [
    "df.info(memory_usage=\"deep\")\n"
   ]
  },
  {
   "cell_type": "code",
   "execution_count": null,
   "id": "811ed25e",
   "metadata": {},
   "outputs": [],
   "source": [
    "df.to_parquet(\"cleaned_nyc311_full.parquet\")\n"
   ]
  },
  {
   "cell_type": "code",
   "execution_count": null,
   "id": "6c88758d",
   "metadata": {},
   "outputs": [],
   "source": [
    "df"
   ]
  },
  {
   "cell_type": "code",
   "execution_count": null,
   "id": "b93d510c",
   "metadata": {},
   "outputs": [],
   "source": [
    "import matplotlib.pyplot as plt\n",
    "import seaborn as sns\n",
    "\n",
    "sns.histplot(df[\"resolution_time_hours\"], bins=100, kde=True)\n",
    "plt.title(\"Distribution of Resolution Time (hours)\")\n",
    "plt.xlabel(\"Hours\")\n",
    "plt.ylabel(\"Frequency\")\n",
    "plt.xlim(0, df[\"resolution_time_hours\"].quantile(0.95))  # Zoom in to remove long tail\n",
    "plt.show()\n",
    "\n",
    "print(df[\"resolution_time_hours\"].describe())\n"
   ]
  },
  {
   "cell_type": "code",
   "execution_count": null,
   "id": "7f5e210c",
   "metadata": {},
   "outputs": [],
   "source": [
    "df['log_resolution_time'] = np.log1p(df['resolution_time_hours'])\n"
   ]
  },
  {
   "cell_type": "code",
   "execution_count": null,
   "id": "349b49c9",
   "metadata": {},
   "outputs": [],
   "source": [
    "import seaborn as sns\n",
    "import matplotlib.pyplot as plt\n",
    "\n",
    "sns.boxplot(x=df['resolution_time_hours'])\n",
    "plt.title(\"Boxplot of Resolution Time\")\n",
    "plt.show()\n"
   ]
  },
  {
   "cell_type": "code",
   "execution_count": null,
   "id": "4645a083",
   "metadata": {},
   "outputs": [],
   "source": [
    "threshold = df['resolution_time_hours'].quantile(0.99)\n",
    "print(f\"99th percentile: {threshold} hours\")\n"
   ]
  },
  {
   "cell_type": "code",
   "execution_count": null,
   "id": "054bc36a",
   "metadata": {},
   "outputs": [],
   "source": [
    "df_cleaned = df[df['resolution_time_hours'] <= threshold].copy()\n",
    "print(f\"Removed {(1 - len(df_cleaned)/len(df)) * 100:.2f}% of rows\")\n"
   ]
  },
  {
   "cell_type": "code",
   "execution_count": null,
   "id": "1b5a2a35",
   "metadata": {},
   "outputs": [],
   "source": [
    "\n",
    "plt.figure(figsize=(7, 5))\n",
    "plt.hist(df_cleaned['resolution_time_hours'], bins=50, color='skyblue', edgecolor='black', alpha=0.7)\n",
    "plt.title(\"Distribution of Resolution Time (hours)\\nAfter Removing Top 1% Outliers\")\n",
    "plt.xlabel(\"Hours\")\n",
    "plt.ylabel(\"Frequency\")\n",
    "plt.grid(True, linestyle='--', alpha=0.5)\n",
    "plt.tight_layout()\n",
    "plt.show()"
   ]
  },
  {
   "cell_type": "code",
   "execution_count": null,
   "id": "bd7299a9",
   "metadata": {},
   "outputs": [],
   "source": [
    "import numpy as np\n",
    "import seaborn as sns\n",
    "\n",
    "# Apply log1p to handle 0 values safely\n",
    "df_cleaned['log_resolution_time'] = np.log1p(df_cleaned['resolution_time_hours'])\n",
    "\n",
    "# Plot the transformed distribution\n",
    "plt.figure(figsize=(7, 5))\n",
    "sns.histplot(df_cleaned['log_resolution_time'], bins=50, kde=True, color='teal')\n",
    "plt.title(\"Log-Scaled Distribution of Resolution Time (log1p)\")\n",
    "plt.xlabel(\"log(1 + Resolution Time in Hours)\")\n",
    "plt.ylabel(\"Frequency\")\n",
    "plt.grid(True, linestyle='--', alpha=0.5)\n",
    "plt.tight_layout()\n",
    "plt.show()\n"
   ]
  },
  {
   "cell_type": "code",
   "execution_count": null,
   "id": "9077ac93",
   "metadata": {},
   "outputs": [],
   "source": [
    "df.columns"
   ]
  },
  {
   "cell_type": "code",
   "execution_count": null,
   "id": "d93d0c62",
   "metadata": {},
   "outputs": [],
   "source": [
    "df_cleaned.describe()\n"
   ]
  },
  {
   "cell_type": "code",
   "execution_count": null,
   "id": "d94fbecc",
   "metadata": {},
   "outputs": [],
   "source": [
    "df_cleaned[df_cleaned[\"Borough\"] == \"Unspecified\"].count()\n"
   ]
  },
  {
   "cell_type": "code",
   "execution_count": null,
   "id": "b3224c61",
   "metadata": {},
   "outputs": [],
   "source": [
    "df_cleaned = df_cleaned[df_cleaned[\"Borough\"] != \"Unspecified\"]\n"
   ]
  },
  {
   "cell_type": "code",
   "execution_count": null,
   "id": "8917e2e1",
   "metadata": {},
   "outputs": [],
   "source": [
    "df_cleaned.head(500)"
   ]
  },
  {
   "cell_type": "code",
   "execution_count": null,
   "id": "362b3633",
   "metadata": {},
   "outputs": [],
   "source": [
    "df_cleaned[\"Created Date\"].min()\n"
   ]
  },
  {
   "cell_type": "code",
   "execution_count": null,
   "id": "8da4f362",
   "metadata": {},
   "outputs": [],
   "source": [
    "df.columns"
   ]
  },
  {
   "cell_type": "code",
   "execution_count": null,
   "id": "1d21258a",
   "metadata": {},
   "outputs": [],
   "source": [
    "df_cleaned.isnull().sum().sort_values(ascending=False)\n"
   ]
  },
  {
   "cell_type": "code",
   "execution_count": null,
   "id": "b9993009",
   "metadata": {},
   "outputs": [],
   "source": [
    "# Drop rows with missing lat/lon or borough\n",
    "df_cleaned = df_cleaned.dropna(subset=[\"Latitude\", \"Longitude\", \"Borough\"])\n",
    "\n",
    "# Fill with 'Unknown' or 'Unspecified'\n",
    "unknown_fill = [\"Descriptor\", \"Resolution Description\"]\n",
    "unspecified_fill = [\"Location Type\", \"City\", \"Incident Zip\"]\n",
    "\n",
    "for col in unknown_fill:\n",
    "    if df_cleaned[col].dtype.name == \"category\":\n",
    "        if \"Unknown\" not in df_cleaned[col].cat.categories:\n",
    "            df_cleaned[col] = df_cleaned[col].cat.add_categories(\"Unknown\")\n",
    "    df_cleaned[col] = df_cleaned[col].fillna(\"Unknown\")\n",
    "\n",
    "\n",
    "for col in unspecified_fill:\n",
    "    if df_cleaned[col].dtype.name == \"category\":\n",
    "        if \"Unspecified\" not in df_cleaned[col].cat.categories:\n",
    "            df_cleaned[col] = df_cleaned[col].cat.add_categories(\"Unspecified\")\n",
    "    df_cleaned[col] = df_cleaned[col].fillna(\"Unspecified\")\n",
    "\n",
    "\n"
   ]
  },
  {
   "cell_type": "code",
   "execution_count": null,
   "id": "0262cfe3",
   "metadata": {},
   "outputs": [],
   "source": [
    "df_cleaned.isnull().sum().sort_values(ascending=False)\n"
   ]
  },
  {
   "cell_type": "code",
   "execution_count": null,
   "id": "ecfc9b68",
   "metadata": {},
   "outputs": [],
   "source": [
    "# Ensure datetime format\n",
    "df_cleaned[\"Created Date\"] = pd.to_datetime(df_cleaned[\"Created Date\"], errors=\"coerce\")\n",
    "\n",
    "# Extract features\n",
    "df_cleaned[\"year\"] = df_cleaned[\"Created Date\"].dt.year\n",
    "df_cleaned[\"month\"] = df_cleaned[\"Created Date\"].dt.month\n",
    "df_cleaned[\"day_of_week\"] = df_cleaned[\"Created Date\"].dt.day_name()\n",
    "df_cleaned[\"hour\"] = df_cleaned[\"Created Date\"].dt.hour\n",
    "df_cleaned[\"is_weekend\"] = df_cleaned[\"day_of_week\"].isin([\"Saturday\", \"Sunday\"])\n"
   ]
  },
  {
   "cell_type": "code",
   "execution_count": null,
   "id": "837e27d6",
   "metadata": {},
   "outputs": [],
   "source": [
    "df_cleaned[[\"Created Date\", \"year\", \"month\", \"day_of_week\", \"hour\", \"is_weekend\"]].head()\n"
   ]
  },
  {
   "cell_type": "code",
   "execution_count": null,
   "id": "600234ef",
   "metadata": {},
   "outputs": [],
   "source": [
    "import seaborn as sns\n",
    "import matplotlib.pyplot as plt\n",
    "\n",
    "complaints_per_year = df_cleaned.groupby(\"year\").size().reset_index(name=\"num_complaints\")\n",
    "\n",
    "sns.barplot(data=complaints_per_year, x=\"year\", y=\"num_complaints\")\n",
    "plt.title(\"Total 311 Complaints per Year\")\n",
    "plt.ylabel(\"Complaint Count\")\n",
    "plt.xticks(rotation=45)\n",
    "plt.tight_layout()\n",
    "plt.show()\n"
   ]
  },
  {
   "cell_type": "code",
   "execution_count": null,
   "id": "c00816e8",
   "metadata": {},
   "outputs": [],
   "source": [
    "avg_resolution_by_year = df_cleaned.groupby(\"year\")[\"resolution_time_hours\"].mean().reset_index()\n",
    "\n",
    "sns.lineplot(data=avg_resolution_by_year, x=\"year\", y=\"resolution_time_hours\", marker=\"o\")\n",
    "plt.title(\"Average Resolution Time per Year\")\n",
    "plt.ylabel(\"Hours\")\n",
    "plt.xticks(rotation=45)\n",
    "plt.tight_layout()\n",
    "plt.show()\n"
   ]
  },
  {
   "cell_type": "code",
   "execution_count": null,
   "id": "64d27ade",
   "metadata": {},
   "outputs": [],
   "source": [
    "# Complaints by weekday\n",
    "sns.countplot(data=df_cleaned, x=\"day_of_week\", order=[\n",
    "    \"Monday\", \"Tuesday\", \"Wednesday\", \"Thursday\", \"Friday\", \"Saturday\", \"Sunday\"])\n",
    "plt.title(\"Complaints by Day of Week\")\n",
    "plt.xticks(rotation=45)\n",
    "plt.show()\n",
    "\n",
    "# Complaints by hour\n",
    "sns.histplot(data=df_cleaned, x=\"hour\", bins=24, discrete=True)\n",
    "plt.title(\"Complaints by Hour of Day\")\n",
    "plt.xlabel(\"Hour\")\n",
    "plt.show()\n"
   ]
  },
  {
   "cell_type": "code",
   "execution_count": null,
   "id": "f75b27d0",
   "metadata": {},
   "outputs": [],
   "source": [
    "complaints_by_borough_year = df_cleaned.groupby([\"year\", \"Borough\"]).size().reset_index(name=\"complaint_count\")\n",
    "\n",
    "import seaborn as sns\n",
    "import matplotlib.pyplot as plt\n",
    "\n",
    "plt.figure(figsize=(12, 6))\n",
    "sns.lineplot(data=complaints_by_borough_year, x=\"year\", y=\"complaint_count\", hue=\"Borough\", marker=\"o\")\n",
    "plt.title(\"Total Complaints by Borough Over Years\")\n",
    "plt.ylabel(\"Complaint Count\")\n",
    "plt.xticks(rotation=45)\n",
    "plt.tight_layout()\n",
    "plt.show()\n"
   ]
  },
  {
   "cell_type": "code",
   "execution_count": null,
   "id": "26ad6ecc",
   "metadata": {},
   "outputs": [],
   "source": [
    "resolution_by_borough_year = df_cleaned.groupby([\"year\", \"Borough\"])[\"resolution_time_hours\"].mean().reset_index()\n",
    "\n",
    "plt.figure(figsize=(12, 6))\n",
    "sns.lineplot(data=resolution_by_borough_year, x=\"year\", y=\"resolution_time_hours\", hue=\"Borough\", marker=\"o\")\n",
    "plt.title(\"Average Resolution Time by Borough Over Years\")\n",
    "plt.ylabel(\"Avg Resolution Time (Hours)\")\n",
    "plt.xticks(rotation=45)\n",
    "plt.tight_layout()\n",
    "plt.show()\n"
   ]
  },
  {
   "cell_type": "code",
   "execution_count": null,
   "id": "bb37d57d",
   "metadata": {},
   "outputs": [],
   "source": [
    "df_cleaned[\"month\"] = df_cleaned[\"Created Date\"].dt.month\n",
    "monthly_borough = df_cleaned.groupby([\"year\", \"month\", \"Borough\"]).size().reset_index(name=\"complaint_count\")\n",
    "monthly_borough[\"year_month\"] = monthly_borough[\"year\"].astype(str) + \"-\" + monthly_borough[\"month\"].astype(str).str.zfill(2)\n",
    "\n",
    "plt.figure(figsize=(14, 6))\n",
    "sns.lineplot(data=monthly_borough, x=\"year_month\", y=\"complaint_count\", hue=\"Borough\")\n",
    "plt.title(\"Monthly Complaint Volume per Borough\")\n",
    "plt.xticks(rotation=45)\n",
    "plt.tight_layout()\n",
    "plt.show()\n"
   ]
  },
  {
   "cell_type": "code",
   "execution_count": null,
   "id": "6a6a45d9",
   "metadata": {},
   "outputs": [],
   "source": [
    "import pandas as pd\n",
    "\n",
    "# Approximate NYC borough populations (source: Census + interpolated estimates)\n",
    "data = {\n",
    "    \"Borough\": [\"BRONX\", \"BROOKLYN\", \"MANHATTAN\", \"QUEENS\", \"STATEN ISLAND\"] * 5,\n",
    "    \"year\": [2021]*5 + [2022]*5 + [2023]*5 + [2024]*5 + [2025]*5,\n",
    "    \"Population\": [\n",
    "        1455720, 2582830, 1638281, 2321580, 495747,  # 2021\n",
    "        1458000, 2590000, 1640000, 2330000, 497000,  # 2022\n",
    "        1460000, 2600000, 1642000, 2340000, 498500,  # 2023\n",
    "        1462000, 2610000, 1644000, 2350000, 500000,  # 2024\n",
    "        1464000, 2620000, 1646000, 2360000, 501500   # 2025\n",
    "    ]\n",
    "}\n",
    "\n",
    "population_df = pd.DataFrame(data)\n"
   ]
  },
  {
   "cell_type": "code",
   "execution_count": null,
   "id": "f1e6d0d6",
   "metadata": {},
   "outputs": [],
   "source": [
    "# Group complaints by borough and year\n",
    "complaints_by_borough_year = df_cleaned.groupby([\"year\", \"Borough\"]).size().reset_index(name=\"complaint_count\")\n",
    "\n",
    "# Merge with population data\n",
    "merged = complaints_by_borough_year.merge(population_df, on=[\"year\", \"Borough\"], how=\"left\")\n",
    "\n",
    "# Calculate normalized metric\n",
    "merged[\"complaints_per_1000\"] = (merged[\"complaint_count\"] / merged[\"Population\"]) * 1000\n"
   ]
  },
  {
   "cell_type": "code",
   "execution_count": null,
   "id": "cd895413",
   "metadata": {},
   "outputs": [],
   "source": [
    "import seaborn as sns\n",
    "import matplotlib.pyplot as plt\n",
    "\n",
    "plt.figure(figsize=(12, 6))\n",
    "sns.lineplot(data=merged, x=\"year\", y=\"complaints_per_1000\", hue=\"Borough\", marker=\"o\")\n",
    "plt.title(\"Normalized Complaint Volume (per 1,000 People)\")\n",
    "plt.ylabel(\"Complaints per 1,000 Residents\")\n",
    "plt.xticks(rotation=45)\n",
    "plt.tight_layout()\n",
    "plt.show()\n"
   ]
  },
  {
   "cell_type": "code",
   "execution_count": null,
   "id": "321e1bec",
   "metadata": {},
   "outputs": [],
   "source": [
    "df_cleaned.columns"
   ]
  },
  {
   "cell_type": "code",
   "execution_count": null,
   "id": "2eb5f0c3",
   "metadata": {},
   "outputs": [],
   "source": [
    "top_complaints = df_cleaned[\"Complaint Type\"].value_counts().head(10).index\n",
    "df_top = df_cleaned[df_cleaned[\"Complaint Type\"].isin(top_complaints)]\n"
   ]
  },
  {
   "cell_type": "code",
   "execution_count": null,
   "id": "9864e916",
   "metadata": {},
   "outputs": [],
   "source": [
    "grouped_resolution = (\n",
    "    df_top.groupby([\"Complaint Type\", \"Borough\"])[\"resolution_time_hours\"]\n",
    "    .mean()\n",
    "    .reset_index()\n",
    ")\n"
   ]
  },
  {
   "cell_type": "code",
   "execution_count": null,
   "id": "aa98329f",
   "metadata": {},
   "outputs": [],
   "source": [
    "import seaborn as sns\n",
    "import matplotlib.pyplot as plt\n",
    "\n",
    "pivot = grouped_resolution.pivot(index=\"Complaint Type\", columns=\"Borough\", values=\"resolution_time_hours\")\n",
    "\n",
    "plt.figure(figsize=(12, 6))\n",
    "sns.heatmap(pivot, annot=True, fmt=\".1f\", cmap=\"YlOrRd\")\n",
    "plt.title(\"Avg Resolution Time (hrs) by Complaint Type and Borough\")\n",
    "plt.ylabel(\"Complaint Type\")\n",
    "plt.xlabel(\"Borough\")\n",
    "plt.tight_layout()\n",
    "plt.show()\n"
   ]
  },
  {
   "cell_type": "code",
   "execution_count": null,
   "id": "1f359de4",
   "metadata": {},
   "outputs": [],
   "source": [
    "# Use the same grouped_resolution DataFrame from the heatmap\n",
    "disparity_df = (\n",
    "    grouped_resolution.groupby(\"Complaint Type\")[\"resolution_time_hours\"]\n",
    "    .agg([\"min\", \"max\", \"std\"])\n",
    "    .reset_index()\n",
    ")\n",
    "\n",
    "# Add range column\n",
    "disparity_df[\"range\"] = disparity_df[\"max\"] - disparity_df[\"min\"]\n",
    "\n",
    "# Sort by range (largest disparity first)\n",
    "top_disparity = disparity_df.sort_values(by=\"range\", ascending=False).head(10)\n"
   ]
  },
  {
   "cell_type": "code",
   "execution_count": null,
   "id": "5052bf13",
   "metadata": {},
   "outputs": [],
   "source": [
    "import seaborn as sns\n",
    "import matplotlib.pyplot as plt\n",
    "\n",
    "plt.figure(figsize=(12, 6))\n",
    "sns.barplot(data=top_disparity, x=\"range\", y=\"Complaint Type\", palette=\"coolwarm\")\n",
    "plt.title(\"Top 10 Complaint Types with Highest Borough Disparity (Resolution Time Range)\")\n",
    "plt.xlabel(\"Resolution Time Range (Hours)\")\n",
    "plt.ylabel(\"Complaint Type\")\n",
    "plt.tight_layout()\n",
    "plt.show()\n"
   ]
  },
  {
   "cell_type": "code",
   "execution_count": null,
   "id": "b76c716d",
   "metadata": {},
   "outputs": [],
   "source": [
    "# After computing `disparity_df`:\n",
    "top_disparity = disparity_df.sort_values(by=\"range\", ascending=False).head(10)\n",
    "\n",
    "\n"
   ]
  },
  {
   "cell_type": "code",
   "execution_count": null,
   "id": "cf22b80c",
   "metadata": {},
   "outputs": [],
   "source": [
    "# Recompute top disparity complaint types\n",
    "top_disparity = (\n",
    "    disparity_df.sort_values(by=\"range\", ascending=False)\n",
    "    .head(10)\n",
    "    .copy()\n",
    ")\n",
    "\n",
    "# Confirm that only 10 complaint types exist\n",
    "print(top_disparity[[\"Complaint Type\", \"range\"]])\n",
    "\n",
    "# Now plot ONLY the top 10\n",
    "import seaborn as sns\n",
    "import matplotlib.pyplot as plt\n",
    "\n",
    "plt.figure(figsize=(10, 6))\n",
    "sns.barplot(\n",
    "    data=top_disparity,\n",
    "    x=\"range\",\n",
    "    y=\"Complaint Type\",\n",
    "    palette=\"coolwarm\"\n",
    ")\n",
    "plt.title(\"Top 10 Complaint Types with Highest Borough Disparity\\n(Resolution Time Range)\")\n",
    "plt.xlabel(\"Resolution Time Range (Hours)\")\n",
    "plt.ylabel(\"Complaint Type\")\n",
    "plt.tight_layout()\n",
    "plt.show()\n"
   ]
  },
  {
   "cell_type": "code",
   "execution_count": null,
   "id": "e95b4770",
   "metadata": {},
   "outputs": [],
   "source": [
    "focus_type = \"UNSANITARY CONDITION\"  # or \"Water System\"\n",
    "\n",
    "subset = grouped_resolution[grouped_resolution[\"Complaint Type\"] == focus_type]\n",
    "\n",
    "import seaborn as sns\n",
    "sns.barplot(data=subset, x=\"resolution_time_hours\", y=\"Borough\", palette=\"mako\")\n",
    "plt.title(f\"Avg Resolution Time by Borough — {focus_type}\")\n",
    "plt.xlabel(\"Resolution Time (hrs)\")\n",
    "plt.tight_layout()\n",
    "plt.show()\n"
   ]
  },
  {
   "cell_type": "code",
   "execution_count": null,
   "id": "671280f8",
   "metadata": {},
   "outputs": [],
   "source": [
    "high_disparity_types = top_disparity[\"Complaint Type\"].tolist()\n",
    "\n",
    "df_cleaned[\"is_high_disparity_type\"] = df_cleaned[\"Complaint Type\"].isin(high_disparity_types)\n"
   ]
  },
  {
   "cell_type": "code",
   "execution_count": null,
   "id": "ab649553",
   "metadata": {},
   "outputs": [],
   "source": [
    "# Step 1: Avg per type (global)\n",
    "global_avg = df_cleaned.groupby(\"Complaint Type\")[\"resolution_time_hours\"].mean().reset_index()\n",
    "global_avg.rename(columns={\"resolution_time_hours\": \"global_avg\"}, inplace=True)\n",
    "\n",
    "# Step 2: Avg per borough + type\n",
    "borough_avg = df_cleaned.groupby([\"Complaint Type\", \"Borough\"])[\"resolution_time_hours\"].mean().reset_index()\n",
    "borough_avg = borough_avg.merge(global_avg, on=\"Complaint Type\", how=\"left\")\n",
    "borough_avg[\"delay_bias\"] = borough_avg[\"resolution_time_hours\"] - borough_avg[\"global_avg\"]\n"
   ]
  },
  {
   "cell_type": "code",
   "execution_count": null,
   "id": "40b93089",
   "metadata": {},
   "outputs": [],
   "source": [
    "from scipy.stats import f_oneway\n",
    "\n",
    "# Prepare groups\n",
    "groups = [df_cleaned[df_cleaned[\"Borough\"] == b][\"resolution_time_hours\"].dropna().values\n",
    "          for b in [\"BRONX\", \"BROOKLYN\", \"MANHATTAN\", \"QUEENS\", \"STATEN ISLAND\"]]\n",
    "\n",
    "# Run ANOVA\n",
    "f_stat, p_value = f_oneway(*groups)\n",
    "print(f\"ANOVA Results → F-statistic: {f_stat:.2f}, p-value: {p_value:.5f}\")\n",
    "\n"
   ]
  },
  {
   "cell_type": "code",
   "execution_count": null,
   "id": "fcbb5517",
   "metadata": {},
   "outputs": [],
   "source": [
    "df_cleaned[\"Borough\"].value_counts()\n"
   ]
  },
  {
   "cell_type": "code",
   "execution_count": null,
   "id": "aa1f6b37",
   "metadata": {},
   "outputs": [],
   "source": [
    "df_cleaned.groupby(\"Borough\")[\"resolution_time_hours\"].count()\n"
   ]
  },
  {
   "cell_type": "code",
   "execution_count": null,
   "id": "dcadeb97",
   "metadata": {},
   "outputs": [],
   "source": [
    "from statsmodels.stats.multicomp import pairwise_tukeyhsd\n",
    "\n",
    "tukey = pairwise_tukeyhsd(\n",
    "    endog=df_cleaned[\"resolution_time_hours\"],\n",
    "    groups=df_cleaned[\"Borough\"],\n",
    "    alpha=0.05\n",
    ")\n",
    "\n",
    "print(tukey.summary())\n"
   ]
  },
  {
   "cell_type": "code",
   "execution_count": null,
   "id": "7e6d1b84",
   "metadata": {},
   "outputs": [],
   "source": [
    "import matplotlib.pyplot as plt\n",
    "import statsmodels.api as sm\n",
    "from statsmodels.stats.multicomp import MultiComparison\n",
    "\n",
    "mc = MultiComparison(df_cleaned[\"resolution_time_hours\"], df_cleaned[\"Borough\"])\n",
    "result = mc.tukeyhsd()\n",
    "\n",
    "fig = result.plot_simultaneous(figsize=(10, 5))\n",
    "plt.title(\"Tukey HSD: Mean Resolution Time Differences Across Boroughs\")\n",
    "plt.grid(True)\n",
    "plt.show()\n"
   ]
  },
  {
   "cell_type": "code",
   "execution_count": null,
   "id": "d9534466",
   "metadata": {},
   "outputs": [],
   "source": []
  }
 ],
 "metadata": {
  "kernelspec": {
   "display_name": "BR",
   "language": "python",
   "name": "python3"
  },
  "language_info": {
   "codemirror_mode": {
    "name": "ipython",
    "version": 3
   },
   "file_extension": ".py",
   "mimetype": "text/x-python",
   "name": "python",
   "nbconvert_exporter": "python",
   "pygments_lexer": "ipython3",
   "version": "3.10.13"
  }
 },
 "nbformat": 4,
 "nbformat_minor": 5
}
