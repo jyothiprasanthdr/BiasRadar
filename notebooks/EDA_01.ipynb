{
 "cells": [
  {
   "cell_type": "code",
   "execution_count": null,
   "id": "683a5b94",
   "metadata": {},
   "outputs": [],
   "source": [
    "%pip install missingno"
   ]
  },
  {
   "cell_type": "code",
   "execution_count": null,
   "id": "54ebfdd6",
   "metadata": {},
   "outputs": [],
   "source": [
    "import pandas as pd\n",
    "import matplotlib.pyplot as plt\n",
    "import seaborn as sns\n",
    "import missingno as msno\n",
    "from scipy.stats import skew\n",
    "from pathlib import Path"
   ]
  },
  {
   "cell_type": "code",
   "execution_count": null,
   "id": "4a71e8cf",
   "metadata": {},
   "outputs": [],
   "source": [
    "sns.set(style=\"whitegrid\")\n",
    "pd.set_option(\"display.max_columns\", 100)\n",
    "DATA_PATH = Path(\"../data/nyc_311_2022_to_2025_sample_150k.csv\")"
   ]
  },
  {
   "cell_type": "code",
   "execution_count": null,
   "id": "96af9bb6",
   "metadata": {},
   "outputs": [],
   "source": [
    "df = pd.read_csv(DATA_PATH, low_memory=False)\n",
    "print(f\" Loaded shape: {df.shape}\")\n",
    "\n",
    "\n",
    "print(\"Earliest:\", df['created_date'].min())\n",
    "print(\"Latest:\", df['created_date'].max())\n",
    "\n"
   ]
  },
  {
   "cell_type": "code",
   "execution_count": null,
   "id": "afb8355e",
   "metadata": {},
   "outputs": [],
   "source": [
    "display(df.head())\n",
    "display(df.info())\n",
    "display(df.describe())"
   ]
  },
  {
   "cell_type": "code",
   "execution_count": null,
   "id": "03b97bb3",
   "metadata": {},
   "outputs": [],
   "source": [
    "msno.matrix(df.sample(2000))\n",
    "plt.title(\"Missing Values Sample (1000 rows)\")\n",
    "plt.show()"
   ]
  },
  {
   "cell_type": "code",
   "execution_count": null,
   "id": "4a2957bf",
   "metadata": {},
   "outputs": [],
   "source": [
    "# Drop columns with more than 50% missing\n",
    "from matplotlib import axis\n",
    "\n",
    "\n",
    "threshold = 0.5\n",
    "missing_ratio = df.isnull().mean()\n",
    "to_drop = missing_ratio[missing_ratio > threshold].index.tolist()\n",
    "COLUMNS_TO_DROP = [\n",
    "                \"unique_key\",\n",
    "                \"incident_address\",\n",
    "                \"intersection_street_1\",\n",
    "                \"intersection_street_2\",\n",
    "                \"street_name\",\n",
    "                \"cross_street_1\",\n",
    "                \"cross_street_2\",\n",
    "                \"landmark\",\n",
    "                \"address_type\",\n",
    "                \"x_coordinate_state_plane\",\n",
    "                \"y_coordinate_state_plane\",\n",
    "                \"bbl\",\n",
    "                \"park_facility_name\",\n",
    "                \"park_borough\",\n",
    "                \"vehicle_type\",\n",
    "                \"taxi_company_borough\",\n",
    "                \"taxi_pick_up_location\",\n",
    "                \"bridge_highway_name\",\n",
    "                \"bridge_highway_direction\",\n",
    "                \"road_ramp\",\n",
    "                \"bridge_highway_segment\",\n",
    "                \"open_data_channel_type\",\n",
    "                \"due_date\",\n",
    "                \"resolution_action_updated_date\",\n",
    "                \"resolution_description\",\n",
    "                \"community_board\",\n",
    "                \"location\",\n",
    "                \"city\"\n",
    "            ]\n",
    "COLUMNS_TO_DROP.extend(to_drop)\n",
    "print(COLUMNS_TO_DROP)\n",
    "print(f\"Dropping {len(to_drop)} columns: {to_drop}\")\n",
    "\n",
    "df_cleaned = df.drop(columns=COLUMNS_TO_DROP)\n"
   ]
  },
  {
   "cell_type": "code",
   "execution_count": null,
   "id": "61e953e2",
   "metadata": {},
   "outputs": [],
   "source": [
    "msno.matrix(df_cleaned.sample(2000))\n",
    "plt.title(\"Missing Values Sample (1000 rows)\")\n",
    "plt.show()"
   ]
  },
  {
   "cell_type": "code",
   "execution_count": null,
   "id": "a8781384",
   "metadata": {},
   "outputs": [],
   "source": [
    "df_cleaned[\"closed_date\"].isna().sum()"
   ]
  },
  {
   "cell_type": "code",
   "execution_count": null,
   "id": "553fb902",
   "metadata": {},
   "outputs": [],
   "source": [
    "df[df[\"closed_date\"].isna()][\"complaint_type\"].value_counts().head(10)\n",
    "#\n"
   ]
  },
  {
   "cell_type": "code",
   "execution_count": null,
   "id": "a47eda88",
   "metadata": {},
   "outputs": [],
   "source": [
    "df[df[\"closed_date\"].isna()][\"agency\"].value_counts().head(10)"
   ]
  },
  {
   "cell_type": "code",
   "execution_count": null,
   "id": "15578611",
   "metadata": {},
   "outputs": [],
   "source": [
    "cleaned_df = df_cleaned.dropna(subset=[\"closed_date\"])\n"
   ]
  },
  {
   "cell_type": "code",
   "execution_count": null,
   "id": "f280b879",
   "metadata": {},
   "outputs": [],
   "source": [
    "msno.matrix(df_cleaned.sample(2000))\n",
    "plt.title(\"Missing Values Sample (1000 rows)\")\n",
    "plt.show()"
   ]
  },
  {
   "cell_type": "code",
   "execution_count": null,
   "id": "ff59260c",
   "metadata": {},
   "outputs": [],
   "source": [
    "cleaned_df.head()"
   ]
  },
  {
   "cell_type": "code",
   "execution_count": null,
   "id": "725cdfc5",
   "metadata": {},
   "outputs": [],
   "source": [
    "\n"
   ]
  },
  {
   "cell_type": "code",
   "execution_count": null,
   "id": "4ff30761",
   "metadata": {},
   "outputs": [],
   "source": [
    "msno.matrix(df_cleaned)\n",
    "\n",
    "plt.title(\"Missing Values Sample (1000 rows)\")\n",
    "plt.show()\n"
   ]
  },
  {
   "cell_type": "code",
   "execution_count": null,
   "id": "87ebbc05",
   "metadata": {},
   "outputs": [],
   "source": [
    "cleaned_df.isna().sum()"
   ]
  },
  {
   "cell_type": "code",
   "execution_count": null,
   "id": "7da63c5b",
   "metadata": {},
   "outputs": [],
   "source": [
    "zip_mode = cleaned_df[\"incident_zip\"].mode()[0]\n",
    "cleaned_df.loc[:, \"incident_zip\"] = cleaned_df[\"incident_zip\"].fillna(zip_mode)"
   ]
  },
  {
   "cell_type": "code",
   "execution_count": null,
   "id": "013ea309",
   "metadata": {},
   "outputs": [],
   "source": [
    "cleaned_df.loc[:, \"descriptor\"] = (\n",
    "    cleaned_df.groupby(\"complaint_type\")[\"descriptor\"]\n",
    "    .transform(lambda x: x.fillna(x.mode().iloc[0] if not x.mode().empty else \"Missing\"))\n",
    ")"
   ]
  },
  {
   "cell_type": "code",
   "execution_count": null,
   "id": "b71c696f",
   "metadata": {},
   "outputs": [],
   "source": [
    "cleaned_df = cleaned_df[cleaned_df[\"latitude\"].notna()]\n"
   ]
  },
  {
   "cell_type": "code",
   "execution_count": null,
   "id": "68bbe17e",
   "metadata": {},
   "outputs": [],
   "source": [
    "cleaned_df.isna().sum()"
   ]
  },
  {
   "cell_type": "code",
   "execution_count": null,
   "id": "101aa9a4",
   "metadata": {},
   "outputs": [],
   "source": [
    "msno.matrix(cleaned_df)\n",
    "\n",
    "plt.title(\"Missing Values Sample (1000 rows)\")\n",
    "plt.show()"
   ]
  },
  {
   "cell_type": "code",
   "execution_count": null,
   "id": "d6647f64",
   "metadata": {},
   "outputs": [],
   "source": [
    "cleaned_df[\"location_type\"].isna().mean()\n"
   ]
  },
  {
   "cell_type": "code",
   "execution_count": null,
   "id": "87059063",
   "metadata": {},
   "outputs": [],
   "source": [
    "cleaned_df.loc[:, \"location_type\"] = cleaned_df[\"location_type\"].fillna(\"Missing\")\n"
   ]
  },
  {
   "cell_type": "code",
   "execution_count": null,
   "id": "6456ef98",
   "metadata": {},
   "outputs": [],
   "source": [
    "msno.matrix(cleaned_df)\n",
    "\n",
    "plt.title(\"Missing Values Sample (1000 rows)\")\n",
    "plt.show()"
   ]
  },
  {
   "cell_type": "code",
   "execution_count": null,
   "id": "ff644393",
   "metadata": {},
   "outputs": [],
   "source": [
    "#Computing the target variable using created_date and  closed date\n",
    "\n",
    "cleaned_df[\"created_date\"]= pd.to_datetime(cleaned_df[\"created_date\"], errors=\"coerce\")\n",
    "cleaned_df[\"closed_date\"]= pd.to_datetime(cleaned_df[\"closed_date\"],errors=\"coerce\")\n",
    "\n",
    "\n",
    "cleaned_df[\"resolution_time_hrs\"] = (\n",
    "    (cleaned_df[\"closed_date\"] - cleaned_df[\"created_date\"]).dt.total_seconds() / 3600\n",
    ")"
   ]
  },
  {
   "cell_type": "code",
   "execution_count": null,
   "id": "2c2c19a4",
   "metadata": {},
   "outputs": [],
   "source": [
    "(cleaned_df.loc[:, \"resolution_time_hrs\"] < 0).sum()"
   ]
  },
  {
   "cell_type": "code",
   "execution_count": null,
   "id": "b6536be0",
   "metadata": {},
   "outputs": [],
   "source": [
    "cleaned_df = cleaned_df[cleaned_df[\"resolution_time_hrs\"] >= 0]\n"
   ]
  },
  {
   "cell_type": "code",
   "execution_count": null,
   "id": "6ce089f8",
   "metadata": {},
   "outputs": [],
   "source": [
    "cleaned_df[\"resolution_time_hrs\"].describe()"
   ]
  },
  {
   "cell_type": "code",
   "execution_count": null,
   "id": "70470a81",
   "metadata": {},
   "outputs": [],
   "source": [
    "cleaned_df[\"resolution_time_hrs\"].hist(bins=50)"
   ]
  },
  {
   "cell_type": "code",
   "execution_count": null,
   "id": "c8f6a56f",
   "metadata": {},
   "outputs": [],
   "source": [
    "import numpy as np\n",
    "\n",
    "# Only apply log1p to non-negative values\n",
    "cleaned_df.loc[:,\"log_resolution_time_hrs\"] = np.log1p(cleaned_df.loc[:,\"resolution_time_hrs\"])\n"
   ]
  },
  {
   "cell_type": "code",
   "execution_count": null,
   "id": "665590ae",
   "metadata": {},
   "outputs": [],
   "source": [
    "import seaborn as sns\n",
    "import matplotlib.pyplot as plt\n",
    "\n",
    "sns.histplot(cleaned_df[\"log_resolution_time_hrs\"], kde=True)\n",
    "plt.title(\"Log-transformed Resolution Time (hrs)\")\n",
    "plt.show()"
   ]
  },
  {
   "cell_type": "code",
   "execution_count": null,
   "id": "3e6da14d",
   "metadata": {},
   "outputs": [],
   "source": [
    "import matplotlib.pyplot as plt\n",
    "import seaborn as sns\n",
    "\n",
    "# Set style\n",
    "plt.figure(figsize=(10, 8))\n",
    "sns.set(style=\"whitegrid\")\n",
    "\n",
    "# Count top 20 complaint types\n",
    "top_20_complaints = (\n",
    "    cleaned_df[\"complaint_type\"]\n",
    "    .value_counts()\n",
    "    .head(25)\n",
    "    .sort_values(ascending=True)\n",
    ")\n",
    "\n",
    "# Plot\n",
    "sns.barplot(\n",
    "    x=top_20_complaints.values,\n",
    "    y=top_20_complaints.index,\n",
    "    palette=\"viridis\"\n",
    ")\n",
    "\n",
    "plt.title(\"Top 25 Complaint Types in NYC 311\")\n",
    "plt.xlabel(\"Count\")\n",
    "plt.ylabel(\"Complaint Type\")\n",
    "plt.tight_layout()\n",
    "plt.show()\n"
   ]
  },
  {
   "cell_type": "code",
   "execution_count": null,
   "id": "6bb6d6a1",
   "metadata": {},
   "outputs": [],
   "source": [
    "complaint_counts = cleaned_df[\"complaint_type\"].value_counts()\n",
    "print(complaint_counts.head(30))  # Top 30 most common types\n"
   ]
  },
  {
   "cell_type": "code",
   "execution_count": null,
   "id": "cfba83a0",
   "metadata": {},
   "outputs": [],
   "source": [
    "mapping = {\n",
    "    # Noise-related\n",
    "    \"Noise - Residential\": \"Noise\",\n",
    "    \"Noise - Commercial\": \"Noise\",\n",
    "    \"Noise - Street/Sidewalk\": \"Noise\",\n",
    "    \"Noise - Vehicle\": \"Noise\",\n",
    "    \"Noise\": \"Noise\",\n",
    "\n",
    "    # Parking-related\n",
    "    \"Illegal Parking\": \"Parking\",\n",
    "    \"Blocked Driveway\": \"Parking\",\n",
    "\n",
    "    # Water/Plumbing\n",
    "    \"Water Leak\": \"Plumbing\",\n",
    "    \"Water System\": \"Plumbing\",\n",
    "    \"PAINT/PLASTER\": \"Plumbing\",\n",
    "    \"PLUMBING\": \"Plumbing\",\n",
    "\n",
    "    # Heat and Hot Water\n",
    "    \"HEAT/HOT WATER\": \"Heat/Water\",\n",
    "\n",
    "    # General Sanitation\n",
    "    \"UNSANITARY CONDITION\": \"Sanitation\",\n",
    "    \"Dirty Condition\": \"Sanitation\",\n",
    "\n",
    "    # Street/Traffic\n",
    "    \"Street Condition\": \"Street\",\n",
    "    \"Traffic Signal Condition\": \"Street\",\n",
    "    \"Street Light Condition\": \"Street\",\n",
    "    \"Derelict Vehicles\": \"Street\",\n",
    "    \"Abandoned Vehicle\": \"Street\",\n",
    "\n",
    "    # Misc\n",
    "    \"Missed Collection\": \"Sanitation\",\n",
    "    \"Encampment\": \"Public Safety\",\n",
    "    \"DOOR/WINDOW\": \"Maintenance\",\n",
    "    \"Snow or Ice\": \"Weather\",\n",
    "    \"General\": \"Other\"\n",
    "}\n",
    "\n",
    "cleaned_df[\"complaint_grouped\"] = (\n",
    "    cleaned_df[\"complaint_type\"]\n",
    "    .map(mapping)\n",
    "    .fillna(\"Other\")\n",
    ")\n",
    "\n"
   ]
  },
  {
   "cell_type": "code",
   "execution_count": null,
   "id": "4e7ed705",
   "metadata": {},
   "outputs": [],
   "source": [
    "import seaborn as sns\n",
    "import matplotlib.pyplot as plt\n",
    "\n",
    "plt.figure(figsize=(12,6))\n",
    "sns.countplot(data=cleaned_df, y=\"complaint_grouped\", order=cleaned_df[\"complaint_grouped\"].value_counts().index)\n",
    "plt.title(\"Grouped Complaint Types\")\n",
    "plt.show()\n"
   ]
  },
  {
   "cell_type": "code",
   "execution_count": null,
   "id": "3153143c",
   "metadata": {},
   "outputs": [],
   "source": [
    "import seaborn as sns\n",
    "\n",
    "\n",
    "\n",
    "print(cleaned_df[\"borough\"].value_counts())\n",
    "cleaned_df=cleaned_df[cleaned_df[\"borough\"]!=\"Unspecified\"]\n",
    "sns.countplot(cleaned_df[\"borough\"])\n"
   ]
  },
  {
   "cell_type": "code",
   "execution_count": null,
   "id": "c2d4cf37",
   "metadata": {},
   "outputs": [],
   "source": [
    "import seaborn as sns\n",
    "import matplotlib.pyplot as plt\n",
    "\n",
    "sns.countplot(x=\"agency\", data=cleaned_df)\n",
    "plt.xticks(rotation=45)\n",
    "plt.title(\"Count of Complaints by Agency\")\n",
    "plt.show()\n",
    "\n",
    "cleaned_df[\"agency\"].value_counts()"
   ]
  },
  {
   "cell_type": "code",
   "execution_count": null,
   "id": "f935a252",
   "metadata": {},
   "outputs": [],
   "source": [
    "# Threshold: Keep agencies with at least 5000 complaints\n",
    "threshold = 7000\n",
    "agency_counts = cleaned_df[\"agency\"].value_counts()\n",
    "agencies_to_keep = agency_counts[agency_counts >= threshold].index\n",
    "\n",
    "# Replace low-frequency agencies with 'Other'\n",
    "cleaned_df[\"agency\"] = cleaned_df[\"agency\"].apply(lambda x: x if x in agencies_to_keep else \"Other\")\n"
   ]
  },
  {
   "cell_type": "code",
   "execution_count": null,
   "id": "54db69a3",
   "metadata": {},
   "outputs": [],
   "source": [
    "import seaborn as sns\n",
    "import matplotlib.pyplot as plt\n",
    "\n",
    "sns.countplot(x=\"agency\", data=cleaned_df)\n",
    "plt.xticks(rotation=45)\n",
    "plt.title(\"Count of Complaints by Agency\")\n",
    "plt.show()\n",
    "\n",
    "cleaned_df[\"agency\"].value_counts()"
   ]
  },
  {
   "cell_type": "code",
   "execution_count": null,
   "id": "ed1ba83e",
   "metadata": {},
   "outputs": [],
   "source": [
    "import seaborn as sns\n",
    "import matplotlib.pyplot as plt\n",
    "\n",
    "# Get top 15 most common ZIP codes\n",
    "top_zips = cleaned_df[\"incident_zip\"].value_counts().nlargest(15).index\n",
    "\n",
    "# Filter for those\n",
    "filtered_df = cleaned_df[cleaned_df[\"incident_zip\"].isin(top_zips)]\n",
    "\n",
    "plt.figure(figsize=(12, 6))\n",
    "sns.countplot(x=\"incident_zip\", data=filtered_df, order=top_zips)\n",
    "plt.xticks(rotation=45)\n",
    "plt.title(\"Top 15 Most Frequent Incident Zipcodes\")\n",
    "plt.xlabel(\"Zip Code\")\n",
    "plt.ylabel(\"Count\")\n",
    "plt.tight_layout()\n",
    "plt.show()\n"
   ]
  },
  {
   "cell_type": "code",
   "execution_count": null,
   "id": "20b5ab6e",
   "metadata": {},
   "outputs": [],
   "source": [
    "top_types = cleaned_df[\"location_type\"].value_counts().loc[lambda x: x >= 1000].index\n",
    "\n",
    "\n",
    "cleaned_df[\"location_type_grouped\"] = cleaned_df[\"location_type\"].apply(\n",
    "    lambda x: x if x in top_types else \"Other\"\n",
    ")\n",
    "\n",
    "\n",
    "\n"
   ]
  },
  {
   "cell_type": "code",
   "execution_count": null,
   "id": "5e6d015b",
   "metadata": {},
   "outputs": [],
   "source": [
    "plt.figure(figsize=(10, 6))\n",
    "sns.countplot(y=\"location_type_grouped\", data=cleaned_df,\n",
    "              order=cleaned_df[\"location_type_grouped\"].value_counts().index)\n",
    "plt.title(\"Grouped Location Type Distribution\")\n",
    "plt.xlabel(\"Count\")\n",
    "plt.ylabel(\"Location Type\")\n",
    "plt.tight_layout()\n",
    "plt.show()\n"
   ]
  },
  {
   "cell_type": "code",
   "execution_count": null,
   "id": "f5382037",
   "metadata": {},
   "outputs": [],
   "source": [
    "cleaned_df['created_date'] = pd.to_datetime(cleaned_df['created_date'])\n",
    "cleaned_df['year'] = cleaned_df['created_date'].dt.year\n",
    "cleaned_df['month'] = cleaned_df['created_date'].dt.month\n",
    "cleaned_df['year_month'] = cleaned_df['created_date'].dt.to_period('M')\n",
    "\n"
   ]
  },
  {
   "cell_type": "code",
   "execution_count": null,
   "id": "66dada04",
   "metadata": {},
   "outputs": [],
   "source": [
    "monthly_trend = cleaned_df['year_month'].value_counts().sort_index()\n",
    "\n",
    "plt.figure(figsize=(14,5))\n",
    "sns.lineplot(x=monthly_trend.index.astype(str), y=monthly_trend.values, marker='o')\n",
    "plt.title(\"Monthly Complaint Volume Over Time\")\n",
    "plt.xlabel(\"Year-Month\")\n",
    "plt.ylabel(\"Number of Complaints\")\n",
    "plt.xticks(rotation=45)\n",
    "plt.tight_layout()\n",
    "plt.show()\n",
    "\n"
   ]
  },
  {
   "cell_type": "code",
   "execution_count": null,
   "id": "14004343",
   "metadata": {},
   "outputs": [],
   "source": [
    "plt.figure(figsize=(10,5))\n",
    "sns.countplot(data=cleaned_df, x='month', order=range(1,13))\n",
    "plt.title(\"Complaint Count by Month (Across Years)\")\n",
    "plt.xlabel(\"Month\")\n",
    "plt.ylabel(\"Number of Complaints\")\n",
    "plt.show()\n"
   ]
  },
  {
   "cell_type": "code",
   "execution_count": null,
   "id": "0ada741b",
   "metadata": {},
   "outputs": [],
   "source": [
    "cleaned_df['created_date'].dt.year.value_counts()\n",
    "\n",
    "plt.figure(figsize=(8,4))\n",
    "sns.countplot(data=cleaned_df, x='year')\n",
    "plt.title(\"Complaint Count by Year\")\n",
    "plt.xlabel(\"Year\")\n",
    "plt.ylabel(\"Number of Complaints\")\n",
    "plt.show()\n",
    "\n",
    "\n"
   ]
  },
  {
   "cell_type": "code",
   "execution_count": null,
   "id": "b55c0980",
   "metadata": {},
   "outputs": [],
   "source": [
    "\n"
   ]
  },
  {
   "cell_type": "code",
   "execution_count": null,
   "id": "09ca0f77",
   "metadata": {},
   "outputs": [],
   "source": [
    "\n"
   ]
  },
  {
   "cell_type": "markdown",
   "id": "9597ba2e",
   "metadata": {},
   "source": [
    "## Bivariate Analysis\n"
   ]
  },
  {
   "cell_type": "code",
   "execution_count": null,
   "id": "0f7c9128",
   "metadata": {},
   "outputs": [],
   "source": [
    "import seaborn as sns\n",
    "import matplotlib.pyplot as plt\n",
    "\n",
    "plt.figure(figsize=(12, 6))\n",
    "sns.boxplot(x=\"complaint_grouped\", y=\"resolution_time_hrs\", data=cleaned_df)\n",
    "plt.xticks(rotation=45)\n",
    "plt.title(\"Resolution Time by Complaint Type\")\n",
    "plt.show()\n"
   ]
  },
  {
   "cell_type": "code",
   "execution_count": null,
   "id": "754112e2",
   "metadata": {},
   "outputs": [],
   "source": [
    "plt.figure(figsize=(8, 5))\n",
    "sns.boxplot(x=\"borough\", y=\"resolution_time_hrs\", data=cleaned_df)\n",
    "plt.title(\"Resolution Time by Borough\")\n",
    "plt.show()\n"
   ]
  },
  {
   "cell_type": "code",
   "execution_count": null,
   "id": "f1314338",
   "metadata": {},
   "outputs": [],
   "source": [
    "# Step 1: Count frequency of each agency\n",
    "agency_counts = cleaned_df['agency'].value_counts()\n",
    "\n",
    "# Step 2: Define threshold (e.g., keep top 7, rest as \"Other\")\n",
    "top_agencies = agency_counts[agency_counts > 10000].index  # adjust threshold if needed\n",
    "\n",
    "# Step 3: Create a new column\n",
    "cleaned_df['agency_grouped'] = cleaned_df['agency'].apply(lambda x: x if x in top_agencies else 'Other')\n",
    "\n"
   ]
  },
  {
   "cell_type": "code",
   "execution_count": null,
   "id": "e041f940",
   "metadata": {},
   "outputs": [],
   "source": [
    "plt.figure(figsize=(12, 5))\n",
    "sns.boxplot(x=\"agency_grouped\", y=\"resolution_time_hrs\", data=cleaned_df)\n",
    "plt.xticks(rotation=45)\n",
    "plt.title(\"Resolution Time by Agency\")\n",
    "plt.show()\n"
   ]
  },
  {
   "cell_type": "code",
   "execution_count": null,
   "id": "cff17443",
   "metadata": {},
   "outputs": [],
   "source": [
    "import matplotlib.pyplot as plt\n",
    "import seaborn as sns\n",
    "\n",
    "# Filter only numerical columns\n",
    "numeric_cols = cleaned_df.select_dtypes(include=[\"float64\", \"int64\"]).columns\n",
    "\n",
    "# Compute the correlation matrix\n",
    "corr_matrix = cleaned_df[numeric_cols].corr()\n",
    "\n",
    "# Plot heatmap\n",
    "plt.figure(figsize=(6, 8))\n",
    "sns.heatmap(corr_matrix, annot=True, fmt=\".2f\", cmap=\"coolwarm\", square=True, cbar_kws={\"shrink\": 0.75})\n",
    "plt.title(\"Heatmap of Correlation Between Numeric Features\")\n",
    "plt.xticks(rotation=45)\n",
    "plt.tight_layout()\n",
    "plt.show()\n"
   ]
  },
  {
   "cell_type": "code",
   "execution_count": null,
   "id": "e8f02003",
   "metadata": {},
   "outputs": [],
   "source": []
  }
 ],
 "metadata": {
  "kernelspec": {
   "display_name": "BR",
   "language": "python",
   "name": "python3"
  },
  "language_info": {
   "codemirror_mode": {
    "name": "ipython",
    "version": 3
   },
   "file_extension": ".py",
   "mimetype": "text/x-python",
   "name": "python",
   "nbconvert_exporter": "python",
   "pygments_lexer": "ipython3",
   "version": "3.10.13"
  }
 },
 "nbformat": 4,
 "nbformat_minor": 5
}
